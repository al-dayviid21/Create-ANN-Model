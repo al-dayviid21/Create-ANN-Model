{
  "nbformat": 4,
  "nbformat_minor": 0,
  "metadata": {
    "colab": {
      "provenance": [],
      "mount_file_id": "1pN135vd2aQLuYBq1yzOZv3EP2JyIoRH9",
      "authorship_tag": "ABX9TyN8ARKiC93YDKq7I8PxKS/i",
      "include_colab_link": true
    },
    "kernelspec": {
      "name": "python3",
      "display_name": "Python 3"
    },
    "language_info": {
      "name": "python"
    },
    "gpuClass": "standard"
  },
  "cells": [
    {
      "cell_type": "markdown",
      "metadata": {
        "id": "view-in-github",
        "colab_type": "text"
      },
      "source": [
        "<a href=\"https://colab.research.google.com/github/al-dayviid21/Create-ANN-Model/blob/main/GPUANN.ipynb\" target=\"_parent\"><img src=\"https://colab.research.google.com/assets/colab-badge.svg\" alt=\"Open In Colab\"/></a>"
      ]
    },
    {
      "cell_type": "markdown",
      "source": [
        "Running ANN using Google Colab"
      ],
      "metadata": {
        "id": "J-x-aLA34cCA"
      }
    },
    {
      "cell_type": "code",
      "source": [
        "!pip install -q keras"
      ],
      "metadata": {
        "id": "On0-k2fR4h8p"
      },
      "execution_count": null,
      "outputs": []
    },
    {
      "cell_type": "code",
      "source": [
        "## Artificial Neural Networks\n",
        "\n",
        "# 1. Data Preprocessing\n",
        "\n",
        "# Import Libraries\n",
        "import numpy as np\n",
        "import pandas as pd\n",
        "import matplotlib.pyplot as plt\n",
        "\n",
        "# Import Dataset\n",
        "df = pd.read_csv('/content/drive/MyDrive/Churn_Modelling.csv')\n",
        "\n",
        "# Split dataset into X and y variables\n",
        "X = df.iloc[:, 3:13]\n",
        "y = df.iloc[:,13]\n",
        "\n",
        "# create dummies\n",
        "geography = pd.get_dummies(df['Geography'], drop_first=True)\n",
        "gender = pd.get_dummies(df['Gender'], drop_first=True)\n",
        "\n",
        "# join the dummies and exisitng features together\n",
        "X = pd.concat([X, geography, gender], axis=1)\n",
        "\n",
        "# drop unwanted columns\n",
        "X.drop(['Geography', 'Gender'], axis=1, inplace=True)\n",
        "\n",
        "# split dataset into test and train\n",
        "from sklearn.model_selection import train_test_split\n",
        "X_train, X_test, y_train, y_test = train_test_split(X, y, test_size=0.2, random_state=0)\n",
        "\n",
        "# feature scaling\n",
        "from sklearn.preprocessing import StandardScaler\n",
        "scaler = StandardScaler()\n",
        "X_train = scaler.fit_transform(X_train)\n",
        "X_test = scaler.transform(X_test)\n",
        "\n",
        "# 2. Create ANN Model\n",
        "import tensorflow as tf\n",
        "import tensorflow.keras\n",
        "from tensorflow.keras.models import Sequential\n",
        "from tensorflow.keras.layers import Dense\n",
        "from tensorflow.keras.layers import ReLU, LeakyReLU, PReLU, ELU\n",
        "from tensorflow.keras.layers import Dropout\n",
        "\n",
        "\n",
        "# Initialize ANN\n",
        "classifier = Sequential()\n",
        "\n",
        "# Add input layer and first hidden layer\n",
        "classifier.add(Dense(units=6, activation='relu', kernel_initializer='he_uniform', input_dim=11))\n",
        "## classifier.add(Dropout(0.3))\n",
        "\n",
        "# Add second hidden layer\n",
        "classifier.add(Dense(units=6, kernel_initializer='he_uniform', activation='relu'))\n",
        "## classifier.add(Dropout(0.3))\n",
        "\n",
        "# Add output layer\n",
        "classifier.add(Dense(units=1, activation='sigmoid', kernel_initializer='glorot_uniform'))\n",
        "\n",
        "# compile classifier\n",
        "classifier.compile(optimizer='adam',metrics=['accuracy'], loss='binary_crossentropy')\n",
        "\n",
        "# fit the ANN model\n",
        "model_history = classifier.fit(X_train, y_train, validation_split=0.33, batch_size=10, epochs=100)\n",
        "\n",
        "# list all model history\n",
        "print(model_history.history.keys())\n",
        "\n",
        "# summarize history for accuracy\n",
        "plt.plot(model_history.history['accuracy'])\n",
        "plt.plot(model_history.history['val_accuracy'])\n",
        "plt.title('model accuracy')\n",
        "plt.ylabel('accuracy')\n",
        "plt.xlabel('epoch')\n",
        "plt.legend(['train', 'test'], loc='upper left')\n",
        "plt.show()\n",
        "\n",
        "# summarize history for loss\n",
        "plt.plot(model_history.history['loss'])\n",
        "plt.plot(model_history.history['val_loss'])\n",
        "plt.title('model loss')\n",
        "plt.ylabel('loss')\n",
        "plt.xlabel('epoch')\n",
        "plt.legend(['train', 'test'], loc='upper left')\n",
        "plt.show()\n",
        "\n",
        "# make prediction\n",
        "y_pred = classifier.predict(X_test)\n",
        "y_pred = (y_pred > 0.5)\n",
        "\n",
        "from sklearn.metrics import confusion_matrix\n",
        "from sklearn.metrics import accuracy_score\n",
        "cm = confusion_matrix(y_test, y_pred)\n",
        "score = accuracy_score(y_test, y_pred)"
      ],
      "metadata": {
        "colab": {
          "base_uri": "https://localhost:8080/",
          "height": 1000
        },
        "id": "2XNZf4Ob5BFa",
        "outputId": "ab73026d-e21e-40c9-ff3a-1bdfe97e395e"
      },
      "execution_count": null,
      "outputs": [
        {
          "output_type": "stream",
          "name": "stdout",
          "text": [
            "Epoch 1/100\n",
            "536/536 [==============================] - 4s 4ms/step - loss: 0.5412 - accuracy: 0.7962 - val_loss: 0.4949 - val_accuracy: 0.7955\n",
            "Epoch 2/100\n",
            "536/536 [==============================] - 2s 3ms/step - loss: 0.4645 - accuracy: 0.7962 - val_loss: 0.4604 - val_accuracy: 0.7955\n",
            "Epoch 3/100\n",
            "536/536 [==============================] - 2s 4ms/step - loss: 0.4446 - accuracy: 0.7962 - val_loss: 0.4475 - val_accuracy: 0.7955\n",
            "Epoch 4/100\n",
            "536/536 [==============================] - 2s 3ms/step - loss: 0.4373 - accuracy: 0.7962 - val_loss: 0.4436 - val_accuracy: 0.7955\n",
            "Epoch 5/100\n",
            "536/536 [==============================] - 2s 4ms/step - loss: 0.4326 - accuracy: 0.7962 - val_loss: 0.4414 - val_accuracy: 0.7955\n",
            "Epoch 6/100\n",
            "536/536 [==============================] - 2s 4ms/step - loss: 0.4286 - accuracy: 0.7962 - val_loss: 0.4391 - val_accuracy: 0.7952\n",
            "Epoch 7/100\n",
            "536/536 [==============================] - 2s 3ms/step - loss: 0.4264 - accuracy: 0.7962 - val_loss: 0.4366 - val_accuracy: 0.7948\n",
            "Epoch 8/100\n",
            "536/536 [==============================] - 2s 4ms/step - loss: 0.4234 - accuracy: 0.7962 - val_loss: 0.4362 - val_accuracy: 0.7955\n",
            "Epoch 9/100\n",
            "536/536 [==============================] - 2s 4ms/step - loss: 0.4205 - accuracy: 0.7966 - val_loss: 0.4329 - val_accuracy: 0.7959\n",
            "Epoch 10/100\n",
            "536/536 [==============================] - 2s 4ms/step - loss: 0.4179 - accuracy: 0.7992 - val_loss: 0.4315 - val_accuracy: 0.7952\n",
            "Epoch 11/100\n",
            "536/536 [==============================] - 2s 3ms/step - loss: 0.4144 - accuracy: 0.8013 - val_loss: 0.4276 - val_accuracy: 0.7970\n",
            "Epoch 12/100\n",
            "536/536 [==============================] - 2s 4ms/step - loss: 0.4098 - accuracy: 0.8050 - val_loss: 0.4236 - val_accuracy: 0.7993\n",
            "Epoch 13/100\n",
            "536/536 [==============================] - 2s 3ms/step - loss: 0.4050 - accuracy: 0.8128 - val_loss: 0.4203 - val_accuracy: 0.8046\n",
            "Epoch 14/100\n",
            "536/536 [==============================] - 2s 3ms/step - loss: 0.4005 - accuracy: 0.8155 - val_loss: 0.4148 - val_accuracy: 0.8107\n",
            "Epoch 15/100\n",
            "536/536 [==============================] - 2s 4ms/step - loss: 0.3953 - accuracy: 0.8201 - val_loss: 0.4106 - val_accuracy: 0.8186\n",
            "Epoch 16/100\n",
            "536/536 [==============================] - 2s 4ms/step - loss: 0.3904 - accuracy: 0.8224 - val_loss: 0.4063 - val_accuracy: 0.8258\n",
            "Epoch 17/100\n",
            "536/536 [==============================] - 2s 4ms/step - loss: 0.3861 - accuracy: 0.8281 - val_loss: 0.4026 - val_accuracy: 0.8273\n",
            "Epoch 18/100\n",
            "536/536 [==============================] - 2s 3ms/step - loss: 0.3817 - accuracy: 0.8319 - val_loss: 0.3975 - val_accuracy: 0.8323\n",
            "Epoch 19/100\n",
            "536/536 [==============================] - 2s 4ms/step - loss: 0.3788 - accuracy: 0.8337 - val_loss: 0.3965 - val_accuracy: 0.8353\n",
            "Epoch 20/100\n",
            "536/536 [==============================] - 2s 3ms/step - loss: 0.3752 - accuracy: 0.8388 - val_loss: 0.3931 - val_accuracy: 0.8376\n",
            "Epoch 21/100\n",
            "536/536 [==============================] - 2s 4ms/step - loss: 0.3724 - accuracy: 0.8391 - val_loss: 0.3904 - val_accuracy: 0.8406\n",
            "Epoch 22/100\n",
            "536/536 [==============================] - 2s 3ms/step - loss: 0.3696 - accuracy: 0.8405 - val_loss: 0.3877 - val_accuracy: 0.8421\n",
            "Epoch 23/100\n",
            "536/536 [==============================] - 2s 3ms/step - loss: 0.3676 - accuracy: 0.8447 - val_loss: 0.3881 - val_accuracy: 0.8455\n",
            "Epoch 24/100\n",
            "536/536 [==============================] - 2s 4ms/step - loss: 0.3655 - accuracy: 0.8472 - val_loss: 0.3862 - val_accuracy: 0.8470\n",
            "Epoch 25/100\n",
            "536/536 [==============================] - 2s 3ms/step - loss: 0.3628 - accuracy: 0.8492 - val_loss: 0.3828 - val_accuracy: 0.8485\n",
            "Epoch 26/100\n",
            "536/536 [==============================] - 2s 3ms/step - loss: 0.3618 - accuracy: 0.8503 - val_loss: 0.3805 - val_accuracy: 0.8508\n",
            "Epoch 27/100\n",
            "536/536 [==============================] - 2s 4ms/step - loss: 0.3599 - accuracy: 0.8487 - val_loss: 0.3802 - val_accuracy: 0.8485\n",
            "Epoch 28/100\n",
            "536/536 [==============================] - 2s 4ms/step - loss: 0.3588 - accuracy: 0.8507 - val_loss: 0.3787 - val_accuracy: 0.8497\n",
            "Epoch 29/100\n",
            "536/536 [==============================] - 2s 4ms/step - loss: 0.3570 - accuracy: 0.8505 - val_loss: 0.3775 - val_accuracy: 0.8497\n",
            "Epoch 30/100\n",
            "536/536 [==============================] - 2s 3ms/step - loss: 0.3555 - accuracy: 0.8548 - val_loss: 0.3769 - val_accuracy: 0.8489\n",
            "Epoch 31/100\n",
            "536/536 [==============================] - 2s 3ms/step - loss: 0.3536 - accuracy: 0.8546 - val_loss: 0.3772 - val_accuracy: 0.8512\n",
            "Epoch 32/100\n",
            "536/536 [==============================] - 2s 3ms/step - loss: 0.3532 - accuracy: 0.8543 - val_loss: 0.3719 - val_accuracy: 0.8508\n",
            "Epoch 33/100\n",
            "536/536 [==============================] - 2s 4ms/step - loss: 0.3514 - accuracy: 0.8561 - val_loss: 0.3708 - val_accuracy: 0.8508\n",
            "Epoch 34/100\n",
            "536/536 [==============================] - 2s 4ms/step - loss: 0.3507 - accuracy: 0.8541 - val_loss: 0.3705 - val_accuracy: 0.8523\n",
            "Epoch 35/100\n",
            "536/536 [==============================] - 2s 3ms/step - loss: 0.3494 - accuracy: 0.8571 - val_loss: 0.3687 - val_accuracy: 0.8512\n",
            "Epoch 36/100\n",
            "536/536 [==============================] - 2s 4ms/step - loss: 0.3481 - accuracy: 0.8556 - val_loss: 0.3691 - val_accuracy: 0.8497\n",
            "Epoch 37/100\n",
            "536/536 [==============================] - 2s 4ms/step - loss: 0.3474 - accuracy: 0.8571 - val_loss: 0.3669 - val_accuracy: 0.8508\n",
            "Epoch 38/100\n",
            "536/536 [==============================] - 2s 4ms/step - loss: 0.3462 - accuracy: 0.8586 - val_loss: 0.3661 - val_accuracy: 0.8516\n",
            "Epoch 39/100\n",
            "536/536 [==============================] - 2s 3ms/step - loss: 0.3453 - accuracy: 0.8584 - val_loss: 0.3657 - val_accuracy: 0.8527\n",
            "Epoch 40/100\n",
            "536/536 [==============================] - 2s 4ms/step - loss: 0.3445 - accuracy: 0.8554 - val_loss: 0.3651 - val_accuracy: 0.8527\n",
            "Epoch 41/100\n",
            "536/536 [==============================] - 2s 4ms/step - loss: 0.3438 - accuracy: 0.8578 - val_loss: 0.3660 - val_accuracy: 0.8527\n",
            "Epoch 42/100\n",
            "536/536 [==============================] - 2s 4ms/step - loss: 0.3431 - accuracy: 0.8572 - val_loss: 0.3626 - val_accuracy: 0.8535\n",
            "Epoch 43/100\n",
            "536/536 [==============================] - 2s 3ms/step - loss: 0.3426 - accuracy: 0.8614 - val_loss: 0.3630 - val_accuracy: 0.8546\n",
            "Epoch 44/100\n",
            "536/536 [==============================] - 2s 4ms/step - loss: 0.3421 - accuracy: 0.8580 - val_loss: 0.3640 - val_accuracy: 0.8542\n",
            "Epoch 45/100\n",
            "536/536 [==============================] - 2s 3ms/step - loss: 0.3413 - accuracy: 0.8595 - val_loss: 0.3638 - val_accuracy: 0.8557\n",
            "Epoch 46/100\n",
            "536/536 [==============================] - 2s 4ms/step - loss: 0.3408 - accuracy: 0.8600 - val_loss: 0.3630 - val_accuracy: 0.8538\n",
            "Epoch 47/100\n",
            "536/536 [==============================] - 3s 5ms/step - loss: 0.3409 - accuracy: 0.8584 - val_loss: 0.3622 - val_accuracy: 0.8523\n",
            "Epoch 48/100\n",
            "536/536 [==============================] - 2s 4ms/step - loss: 0.3402 - accuracy: 0.8610 - val_loss: 0.3628 - val_accuracy: 0.8542\n",
            "Epoch 49/100\n",
            "536/536 [==============================] - 2s 4ms/step - loss: 0.3403 - accuracy: 0.8587 - val_loss: 0.3614 - val_accuracy: 0.8569\n",
            "Epoch 50/100\n",
            "536/536 [==============================] - 2s 4ms/step - loss: 0.3395 - accuracy: 0.8602 - val_loss: 0.3618 - val_accuracy: 0.8565\n",
            "Epoch 51/100\n",
            "536/536 [==============================] - 2s 3ms/step - loss: 0.3398 - accuracy: 0.8600 - val_loss: 0.3632 - val_accuracy: 0.8538\n",
            "Epoch 52/100\n",
            "536/536 [==============================] - 2s 4ms/step - loss: 0.3391 - accuracy: 0.8595 - val_loss: 0.3618 - val_accuracy: 0.8535\n",
            "Epoch 53/100\n",
            "536/536 [==============================] - 2s 4ms/step - loss: 0.3387 - accuracy: 0.8619 - val_loss: 0.3617 - val_accuracy: 0.8565\n",
            "Epoch 54/100\n",
            "536/536 [==============================] - 2s 4ms/step - loss: 0.3384 - accuracy: 0.8597 - val_loss: 0.3619 - val_accuracy: 0.8546\n",
            "Epoch 55/100\n",
            "536/536 [==============================] - 2s 4ms/step - loss: 0.3374 - accuracy: 0.8599 - val_loss: 0.3632 - val_accuracy: 0.8557\n",
            "Epoch 56/100\n",
            "536/536 [==============================] - 2s 4ms/step - loss: 0.3381 - accuracy: 0.8606 - val_loss: 0.3629 - val_accuracy: 0.8538\n",
            "Epoch 57/100\n",
            "536/536 [==============================] - 2s 4ms/step - loss: 0.3377 - accuracy: 0.8604 - val_loss: 0.3614 - val_accuracy: 0.8557\n",
            "Epoch 58/100\n",
            "536/536 [==============================] - 2s 4ms/step - loss: 0.3369 - accuracy: 0.8621 - val_loss: 0.3611 - val_accuracy: 0.8554\n",
            "Epoch 59/100\n",
            "536/536 [==============================] - 2s 4ms/step - loss: 0.3371 - accuracy: 0.8642 - val_loss: 0.3609 - val_accuracy: 0.8550\n",
            "Epoch 60/100\n",
            "536/536 [==============================] - 2s 3ms/step - loss: 0.3363 - accuracy: 0.8617 - val_loss: 0.3613 - val_accuracy: 0.8542\n",
            "Epoch 61/100\n",
            "536/536 [==============================] - 2s 4ms/step - loss: 0.3364 - accuracy: 0.8615 - val_loss: 0.3611 - val_accuracy: 0.8554\n",
            "Epoch 62/100\n",
            "536/536 [==============================] - 2s 4ms/step - loss: 0.3361 - accuracy: 0.8628 - val_loss: 0.3608 - val_accuracy: 0.8561\n",
            "Epoch 63/100\n",
            "536/536 [==============================] - 2s 4ms/step - loss: 0.3359 - accuracy: 0.8610 - val_loss: 0.3610 - val_accuracy: 0.8565\n",
            "Epoch 64/100\n",
            "536/536 [==============================] - 2s 4ms/step - loss: 0.3356 - accuracy: 0.8602 - val_loss: 0.3625 - val_accuracy: 0.8565\n",
            "Epoch 65/100\n",
            "536/536 [==============================] - 2s 4ms/step - loss: 0.3355 - accuracy: 0.8599 - val_loss: 0.3604 - val_accuracy: 0.8580\n",
            "Epoch 66/100\n",
            "536/536 [==============================] - 2s 3ms/step - loss: 0.3348 - accuracy: 0.8617 - val_loss: 0.3616 - val_accuracy: 0.8557\n",
            "Epoch 67/100\n",
            "536/536 [==============================] - 2s 3ms/step - loss: 0.3352 - accuracy: 0.8614 - val_loss: 0.3600 - val_accuracy: 0.8576\n",
            "Epoch 68/100\n",
            "536/536 [==============================] - 2s 3ms/step - loss: 0.3346 - accuracy: 0.8634 - val_loss: 0.3619 - val_accuracy: 0.8565\n",
            "Epoch 69/100\n",
            "536/536 [==============================] - 2s 4ms/step - loss: 0.3340 - accuracy: 0.8617 - val_loss: 0.3592 - val_accuracy: 0.8561\n",
            "Epoch 70/100\n",
            "536/536 [==============================] - 2s 4ms/step - loss: 0.3342 - accuracy: 0.8612 - val_loss: 0.3605 - val_accuracy: 0.8565\n",
            "Epoch 71/100\n",
            "536/536 [==============================] - 2s 4ms/step - loss: 0.3335 - accuracy: 0.8614 - val_loss: 0.3594 - val_accuracy: 0.8573\n",
            "Epoch 72/100\n",
            "536/536 [==============================] - 2s 4ms/step - loss: 0.3337 - accuracy: 0.8643 - val_loss: 0.3604 - val_accuracy: 0.8580\n",
            "Epoch 73/100\n",
            "536/536 [==============================] - 2s 4ms/step - loss: 0.3332 - accuracy: 0.8627 - val_loss: 0.3609 - val_accuracy: 0.8554\n",
            "Epoch 74/100\n",
            "536/536 [==============================] - 2s 4ms/step - loss: 0.3330 - accuracy: 0.8604 - val_loss: 0.3603 - val_accuracy: 0.8565\n",
            "Epoch 75/100\n",
            "536/536 [==============================] - 2s 4ms/step - loss: 0.3326 - accuracy: 0.8617 - val_loss: 0.3599 - val_accuracy: 0.8561\n",
            "Epoch 76/100\n",
            "536/536 [==============================] - 2s 4ms/step - loss: 0.3320 - accuracy: 0.8636 - val_loss: 0.3634 - val_accuracy: 0.8542\n",
            "Epoch 77/100\n",
            "536/536 [==============================] - 2s 4ms/step - loss: 0.3325 - accuracy: 0.8614 - val_loss: 0.3600 - val_accuracy: 0.8523\n",
            "Epoch 78/100\n",
            "536/536 [==============================] - 2s 4ms/step - loss: 0.3321 - accuracy: 0.8640 - val_loss: 0.3607 - val_accuracy: 0.8538\n",
            "Epoch 79/100\n",
            "536/536 [==============================] - 2s 4ms/step - loss: 0.3321 - accuracy: 0.8615 - val_loss: 0.3619 - val_accuracy: 0.8546\n",
            "Epoch 80/100\n",
            "536/536 [==============================] - 2s 4ms/step - loss: 0.3322 - accuracy: 0.8642 - val_loss: 0.3594 - val_accuracy: 0.8527\n",
            "Epoch 81/100\n",
            "536/536 [==============================] - 2s 3ms/step - loss: 0.3316 - accuracy: 0.8617 - val_loss: 0.3594 - val_accuracy: 0.8527\n",
            "Epoch 82/100\n",
            "536/536 [==============================] - 2s 4ms/step - loss: 0.3323 - accuracy: 0.8634 - val_loss: 0.3593 - val_accuracy: 0.8565\n",
            "Epoch 83/100\n",
            "536/536 [==============================] - 2s 4ms/step - loss: 0.3316 - accuracy: 0.8645 - val_loss: 0.3591 - val_accuracy: 0.8554\n",
            "Epoch 84/100\n",
            "536/536 [==============================] - 2s 4ms/step - loss: 0.3318 - accuracy: 0.8614 - val_loss: 0.3579 - val_accuracy: 0.8561\n",
            "Epoch 85/100\n",
            "536/536 [==============================] - 2s 4ms/step - loss: 0.3316 - accuracy: 0.8655 - val_loss: 0.3594 - val_accuracy: 0.8527\n",
            "Epoch 86/100\n",
            "536/536 [==============================] - 2s 4ms/step - loss: 0.3309 - accuracy: 0.8627 - val_loss: 0.3613 - val_accuracy: 0.8519\n",
            "Epoch 87/100\n",
            "536/536 [==============================] - 2s 4ms/step - loss: 0.3311 - accuracy: 0.8642 - val_loss: 0.3587 - val_accuracy: 0.8512\n",
            "Epoch 88/100\n",
            "536/536 [==============================] - 2s 4ms/step - loss: 0.3313 - accuracy: 0.8642 - val_loss: 0.3578 - val_accuracy: 0.8538\n",
            "Epoch 89/100\n",
            "536/536 [==============================] - 2s 5ms/step - loss: 0.3314 - accuracy: 0.8627 - val_loss: 0.3580 - val_accuracy: 0.8561\n",
            "Epoch 90/100\n",
            "536/536 [==============================] - 2s 4ms/step - loss: 0.3314 - accuracy: 0.8636 - val_loss: 0.3580 - val_accuracy: 0.8561\n",
            "Epoch 91/100\n",
            "536/536 [==============================] - 2s 4ms/step - loss: 0.3309 - accuracy: 0.8627 - val_loss: 0.3595 - val_accuracy: 0.8531\n",
            "Epoch 92/100\n",
            "536/536 [==============================] - 2s 4ms/step - loss: 0.3311 - accuracy: 0.8658 - val_loss: 0.3587 - val_accuracy: 0.8538\n",
            "Epoch 93/100\n",
            "536/536 [==============================] - 2s 4ms/step - loss: 0.3306 - accuracy: 0.8619 - val_loss: 0.3589 - val_accuracy: 0.8535\n",
            "Epoch 94/100\n",
            "536/536 [==============================] - 2s 4ms/step - loss: 0.3307 - accuracy: 0.8632 - val_loss: 0.3584 - val_accuracy: 0.8561\n",
            "Epoch 95/100\n",
            "536/536 [==============================] - 2s 4ms/step - loss: 0.3306 - accuracy: 0.8647 - val_loss: 0.3587 - val_accuracy: 0.8538\n",
            "Epoch 96/100\n",
            "536/536 [==============================] - 2s 3ms/step - loss: 0.3300 - accuracy: 0.8615 - val_loss: 0.3621 - val_accuracy: 0.8519\n",
            "Epoch 97/100\n",
            "536/536 [==============================] - 2s 4ms/step - loss: 0.3299 - accuracy: 0.8645 - val_loss: 0.3582 - val_accuracy: 0.8550\n",
            "Epoch 98/100\n",
            "536/536 [==============================] - 2s 3ms/step - loss: 0.3301 - accuracy: 0.8630 - val_loss: 0.3588 - val_accuracy: 0.8512\n",
            "Epoch 99/100\n",
            "536/536 [==============================] - 2s 3ms/step - loss: 0.3299 - accuracy: 0.8656 - val_loss: 0.3588 - val_accuracy: 0.8550\n",
            "Epoch 100/100\n",
            "536/536 [==============================] - 2s 4ms/step - loss: 0.3300 - accuracy: 0.8615 - val_loss: 0.3579 - val_accuracy: 0.8538\n",
            "dict_keys(['loss', 'accuracy', 'val_loss', 'val_accuracy'])\n"
          ]
        },
        {
          "output_type": "display_data",
          "data": {
            "text/plain": [
              "<Figure size 432x288 with 1 Axes>"
            ],
            "image/png": "[encoded data removed]"
          },
          "metadata": {
            "needs_background": "light"
          }
        },
        {
          "output_type": "display_data",
          "data": {
            "text/plain": [
              "<Figure size 432x288 with 1 Axes>"
            ],
            "image/png": "[encoded data removed]"
          },
          "metadata": {
            "needs_background": "light"
          }
        },
        {
          "output_type": "stream",
          "name": "stdout",
          "text": [
            "63/63 [==============================] - 0s 1ms/step\n"
          ]
        }
      ]
    },
    {
      "cell_type": "markdown",
      "source": [
        "Test Whether GPU Is Working"
      ],
      "metadata": {
        "id": "NvOUbFap2MgM"
      }
    },
    {
      "cell_type": "code",
      "execution_count": null,
      "metadata": {
        "colab": {
          "base_uri": "https://localhost:8080/",
          "height": 35
        },
        "id": "IReeTglI1VuG",
        "outputId": "6fbcc73a-a654-43e4-fe43-cbf9220702b2"
      },
      "outputs": [
        {
          "output_type": "execute_result",
          "data": {
            "text/plain": [
              "'/device:GPU:0'"
            ],
            "application/vnd.google.colaboratory.intrinsic+json": {
              "type": "string"
            }
          },
          "metadata": {},
          "execution_count": 1
        }
      ],
      "source": [
        "import tensorflow as tf\n",
        "tf.test.gpu_device_name()"
      ]
    },
    {
      "cell_type": "markdown",
      "source": [
        "Which GPU are we using?"
      ],
      "metadata": {
        "id": "aOR_7wFl2LhH"
      }
    },
    {
      "cell_type": "code",
      "source": [
        "from tensorflow.python.client import device_lib\n",
        "device_lib.list_local_devices()"
      ],
      "metadata": {
        "colab": {
          "base_uri": "https://localhost:8080/"
        },
        "id": "fjYOAm1L27E0",
        "outputId": "7b471f1f-f9c6-409c-bffe-64433ebee1f1"
      },
      "execution_count": null,
      "outputs": [
        {
          "output_type": "execute_result",
          "data": {
            "text/plain": [
              "[name: \"/device:CPU:0\"\n",
              " device_type: \"CPU\"\n",
              " memory_limit: 268435456\n",
              " locality {\n",
              " }\n",
              " incarnation: 10370659676966424197\n",
              " xla_global_id: -1, name: \"/device:GPU:0\"\n",
              " device_type: \"GPU\"\n",
              " memory_limit: 14417788928\n",
              " locality {\n",
              "   bus_id: 1\n",
              "   links {\n",
              "   }\n",
              " }\n",
              " incarnation: 18222402452851390955\n",
              " physical_device_desc: \"device: 0, name: Tesla T4, pci bus id: 0000:00:04.0, compute capability: 7.5\"\n",
              " xla_global_id: 416903419]"
            ]
          },
          "metadata": {},
          "execution_count": 3
        }
      ]
    },
    {
      "cell_type": "markdown",
      "source": [
        "RAM Information"
      ],
      "metadata": {
        "id": "IV5ca_I03mzp"
      }
    },
    {
      "cell_type": "code",
      "source": [
        "!cat /proc/meminfo"
      ],
      "metadata": {
        "colab": {
          "base_uri": "https://localhost:8080/"
        },
        "id": "ksC2fGRT3Loi",
        "outputId": "23274874-679b-4933-b5d5-d49c8ac9ea6b"
      },
      "execution_count": null,
      "outputs": [
        {
          "output_type": "stream",
          "name": "stdout",
          "text": [
            "MemTotal:       13297200 kB\n",
            "MemFree:         7799612 kB\n",
            "MemAvailable:   11307672 kB\n",
            "Buffers:          343188 kB\n",
            "Cached:          3336352 kB\n",
            "SwapCached:            0 kB\n",
            "Active:           623336 kB\n",
            "Inactive:        4506296 kB\n",
            "Active(anon):        928 kB\n",
            "Inactive(anon):  1434544 kB\n",
            "Active(file):     622408 kB\n",
            "Inactive(file):  3071752 kB\n",
            "Unevictable:           0 kB\n",
            "Mlocked:               0 kB\n",
            "SwapTotal:             0 kB\n",
            "SwapFree:              0 kB\n",
            "Dirty:               208 kB\n",
            "Writeback:             0 kB\n",
            "AnonPages:       1450120 kB\n",
            "Mapped:           679208 kB\n",
            "Shmem:             11544 kB\n",
            "KReclaimable:     110700 kB\n",
            "Slab:             152092 kB\n",
            "SReclaimable:     110700 kB\n",
            "SUnreclaim:        41392 kB\n",
            "KernelStack:        4368 kB\n",
            "PageTables:        19200 kB\n",
            "NFS_Unstable:          0 kB\n",
            "Bounce:                0 kB\n",
            "WritebackTmp:          0 kB\n",
            "CommitLimit:     6648600 kB\n",
            "Committed_AS:    3445588 kB\n",
            "VmallocTotal:   34359738367 kB\n",
            "VmallocUsed:       58116 kB\n",
            "VmallocChunk:          0 kB\n",
            "Percpu:             1336 kB\n",
            "HardwareCorrupted:     0 kB\n",
            "AnonHugePages:         0 kB\n",
            "ShmemHugePages:        0 kB\n",
            "ShmemPmdMapped:        0 kB\n",
            "FileHugePages:         0 kB\n",
            "FilePmdMapped:         0 kB\n",
            "CmaTotal:              0 kB\n",
            "CmaFree:               0 kB\n",
            "HugePages_Total:       0\n",
            "HugePages_Free:        0\n",
            "HugePages_Rsvd:        0\n",
            "HugePages_Surp:        0\n",
            "Hugepagesize:       2048 kB\n",
            "Hugetlb:               0 kB\n",
            "DirectMap4k:      248640 kB\n",
            "DirectMap2M:     6039552 kB\n",
            "DirectMap1G:     9437184 kB\n"
          ]
        }
      ]
    },
    {
      "cell_type": "markdown",
      "source": [
        "CPU Information"
      ],
      "metadata": {
        "id": "6BeaASQr4EH6"
      }
    },
    {
      "cell_type": "code",
      "source": [
        "!cat /proc/cpuinfo"
      ],
      "metadata": {
        "colab": {
          "base_uri": "https://localhost:8080/"
        },
        "id": "SuMpd1A73wnb",
        "outputId": "e70107e3-9dc6-4988-9c69-ba61e352c5a2"
      },
      "execution_count": null,
      "outputs": [
        {
          "output_type": "stream",
          "name": "stdout",
          "text": [
            "processor\t: 0\n",
            "vendor_id\t: GenuineIntel\n",
            "cpu family\t: 6\n",
            "model\t\t: 85\n",
            "model name\t: Intel(R) Xeon(R) CPU @ 2.00GHz\n",
            "stepping\t: 3\n",
            "microcode\t: 0xffffffff\n",
            "cpu MHz\t\t: 2000.138\n",
            "cache size\t: 39424 KB\n",
            "physical id\t: 0\n",
            "siblings\t: 2\n",
            "core id\t\t: 0\n",
            "cpu cores\t: 1\n",
            "apicid\t\t: 0\n",
            "initial apicid\t: 0\n",
            "fpu\t\t: yes\n",
            "fpu_exception\t: yes\n",
            "cpuid level\t: 13\n",
            "wp\t\t: yes\n",
            "flags\t\t: fpu vme de pse tsc msr pae mce cx8 apic sep mtrr pge mca cmov pat pse36 clflush mmx fxsr sse sse2 ss ht syscall nx pdpe1gb rdtscp lm constant_tsc rep_good nopl xtopology nonstop_tsc cpuid tsc_known_freq pni pclmulqdq ssse3 fma cx16 pcid sse4_1 sse4_2 x2apic movbe popcnt aes xsave avx f16c rdrand hypervisor lahf_lm abm 3dnowprefetch invpcid_single ssbd ibrs ibpb stibp fsgsbase tsc_adjust bmi1 hle avx2 smep bmi2 erms invpcid rtm mpx avx512f avx512dq rdseed adx smap clflushopt clwb avx512cd avx512bw avx512vl xsaveopt xsavec xgetbv1 xsaves arat md_clear arch_capabilities\n",
            "bugs\t\t: cpu_meltdown spectre_v1 spectre_v2 spec_store_bypass l1tf mds swapgs taa mmio_stale_data retbleed\n",
            "bogomips\t: 4000.27\n",
            "clflush size\t: 64\n",
            "cache_alignment\t: 64\n",
            "address sizes\t: 46 bits physical, 48 bits virtual\n",
            "power management:\n",
            "\n",
            "processor\t: 1\n",
            "vendor_id\t: GenuineIntel\n",
            "cpu family\t: 6\n",
            "model\t\t: 85\n",
            "model name\t: Intel(R) Xeon(R) CPU @ 2.00GHz\n",
            "stepping\t: 3\n",
            "microcode\t: 0xffffffff\n",
            "cpu MHz\t\t: 2000.138\n",
            "cache size\t: 39424 KB\n",
            "physical id\t: 0\n",
            "siblings\t: 2\n",
            "core id\t\t: 0\n",
            "cpu cores\t: 1\n",
            "apicid\t\t: 1\n",
            "initial apicid\t: 1\n",
            "fpu\t\t: yes\n",
            "fpu_exception\t: yes\n",
            "cpuid level\t: 13\n",
            "wp\t\t: yes\n",
            "flags\t\t: fpu vme de pse tsc msr pae mce cx8 apic sep mtrr pge mca cmov pat pse36 clflush mmx fxsr sse sse2 ss ht syscall nx pdpe1gb rdtscp lm constant_tsc rep_good nopl xtopology nonstop_tsc cpuid tsc_known_freq pni pclmulqdq ssse3 fma cx16 pcid sse4_1 sse4_2 x2apic movbe popcnt aes xsave avx f16c rdrand hypervisor lahf_lm abm 3dnowprefetch invpcid_single ssbd ibrs ibpb stibp fsgsbase tsc_adjust bmi1 hle avx2 smep bmi2 erms invpcid rtm mpx avx512f avx512dq rdseed adx smap clflushopt clwb avx512cd avx512bw avx512vl xsaveopt xsavec xgetbv1 xsaves arat md_clear arch_capabilities\n",
            "bugs\t\t: cpu_meltdown spectre_v1 spectre_v2 spec_store_bypass l1tf mds swapgs taa mmio_stale_data retbleed\n",
            "bogomips\t: 4000.27\n",
            "clflush size\t: 64\n",
            "cache_alignment\t: 64\n",
            "address sizes\t: 46 bits physical, 48 bits virtual\n",
            "power management:\n",
            "\n"
          ]
        }
      ]
    },
    {
      "cell_type": "code",
      "source": [],
      "metadata": {
        "id": "d6elgUTP4Kap"
      },
      "execution_count": null,
      "outputs": []
    }
  ]
}